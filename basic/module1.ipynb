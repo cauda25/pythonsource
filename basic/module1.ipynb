{
 "cells": [
  {
   "cell_type": "markdown",
   "metadata": {},
   "source": [
    "- 모듈 : 함수, 변수, 클래스를 모아 놓은 파이썬 파일\n",
    "-        .py 로 작성된 파일은 모듈임\n",
    "\n",
    "- 파이썬에서 제공되는 기본 모듈 사용하기\n",
    "- 모듈 불러오기\n",
    "    - import 모듈명(모듈 전체 불러오기)\n",
    "    - from 모듈명 import 함수명(일부분 불러오기)"
   ]
  },
  {
   "cell_type": "code",
   "execution_count": 1,
   "metadata": {},
   "outputs": [
    {
     "name": "stdout",
     "output_type": "stream",
     "text": [
      "['__doc__', '__loader__', '__name__', '__package__', '__spec__', 'acos', 'acosh', 'asin', 'asinh', 'atan', 'atan2', 'atanh', 'cbrt', 'ceil', 'comb', 'copysign', 'cos', 'cosh', 'degrees', 'dist', 'e', 'erf', 'erfc', 'exp', 'exp2', 'expm1', 'fabs', 'factorial', 'floor', 'fma', 'fmod', 'frexp', 'fsum', 'gamma', 'gcd', 'hypot', 'inf', 'isclose', 'isfinite', 'isinf', 'isnan', 'isqrt', 'lcm', 'ldexp', 'lgamma', 'log', 'log10', 'log1p', 'log2', 'modf', 'nan', 'nextafter', 'perm', 'pi', 'pow', 'prod', 'radians', 'remainder', 'sin', 'sinh', 'sqrt', 'sumprod', 'tan', 'tanh', 'tau', 'trunc', 'ulp']\n",
      "4\n",
      "0.8414709848078965\n",
      "0.5403023058681398\n",
      "3\n"
     ]
    }
   ],
   "source": [
    "import math\n",
    "\n",
    "print(dir(math))  # math 가 제공해주는 함수들\n",
    "\n",
    "# math 모듈애서 제공하는 함수 호출\n",
    "print(math.ceil(3.14))\n",
    "print(math.sin(1))\n",
    "print(math.cos(1))\n",
    "print(math.floor(3.14))"
   ]
  },
  {
   "cell_type": "code",
   "execution_count": 12,
   "metadata": {},
   "outputs": [
    {
     "name": "stdout",
     "output_type": "stream",
     "text": [
      "0.8506514671783864\n",
      "46\n",
      "14.052923540537902\n",
      "6\n",
      "[2, 3, 1, 4, 6, 5, 7]\n",
      "[4, 3]\n"
     ]
    }
   ],
   "source": [
    "import random\n",
    "\n",
    "# Math.random() 같음\n",
    "# 0.0 <= ㅌ < 1.0\n",
    "print(random.random())\n",
    "print(random.randrange(40,100))\n",
    "print(random.uniform(10,20))\n",
    "\n",
    "print(random.choice([1,2,3,4,5,6,7]))\n",
    "list1 = [1,2,3,4,5,6,7]\n",
    "random.shuffle(list1)\n",
    "print(list1)\n",
    "\n",
    "# 리스트에서 무작위로 2개 추출\n",
    "print(random.sample(list1, k=2))"
   ]
  },
  {
   "cell_type": "code",
   "execution_count": 13,
   "metadata": {},
   "outputs": [
    {
     "data": {
      "text/plain": [
       "datetime.datetime(2025, 1, 2, 17, 16, 52, 936214)"
      ]
     },
     "execution_count": 13,
     "metadata": {},
     "output_type": "execute_result"
    }
   ],
   "source": [
    "import datetime\n",
    "\n",
    "datetime.datetime.now()"
   ]
  }
 ],
 "metadata": {
  "kernelspec": {
   "display_name": "venv",
   "language": "python",
   "name": "python3"
  },
  "language_info": {
   "codemirror_mode": {
    "name": "ipython",
    "version": 3
   },
   "file_extension": ".py",
   "mimetype": "text/x-python",
   "name": "python",
   "nbconvert_exporter": "python",
   "pygments_lexer": "ipython3",
   "version": "3.13.1"
  }
 },
 "nbformat": 4,
 "nbformat_minor": 2
}
