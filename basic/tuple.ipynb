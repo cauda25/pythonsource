{
 "cells": [
  {
   "cell_type": "markdown",
   "metadata": {},
   "source": [
    "### tuple 자료형\n",
    "    - 리스트와 동일\n",
    "    - ()를 사용\n",
    "    - 요소값을 수정할 수 없음(조회만 가능)\n",
    "    - 속도는 빠름"
   ]
  },
  {
   "cell_type": "code",
   "execution_count": 1,
   "metadata": {},
   "outputs": [],
   "source": [
    "# tuple 생성 \n",
    "t1 = 1,2,3,4\n",
    "t2 = ()\n",
    "t3 = tuple()\n",
    "t4 = (1,) # 요소 하나일때 \",\" 사용\n",
    "t5 = (1,2,\"Life\",\"is\")\n",
    "t6 = (1,2,(\"Life\",\"is\"))"
   ]
  },
  {
   "cell_type": "code",
   "execution_count": 2,
   "metadata": {},
   "outputs": [
    {
     "name": "stdout",
     "output_type": "stream",
     "text": [
      "(1, 2, 3, 4)\n",
      "()\n",
      "()\n",
      "(1,)\n",
      "(1, 2, 'Life', 'is')\n",
      "(1, 2, ('Life', 'is'))\n"
     ]
    }
   ],
   "source": [
    "print(t1)\n",
    "print(t2)\n",
    "print(t3)\n",
    "print(t4)\n",
    "print(t5)\n",
    "print(t6)"
   ]
  },
  {
   "cell_type": "code",
   "execution_count": 5,
   "metadata": {},
   "outputs": [],
   "source": [
    "# tuple 요소 삭제\n",
    "# del t6[0] TypeError: 'tuple' object doesn't support item deletion\n",
    "\n",
    "# tuple 요소 변경\n",
    "# t6[6] = 5 TypeError: 'tuple' object does not support item assignment"
   ]
  },
  {
   "cell_type": "code",
   "execution_count": 6,
   "metadata": {},
   "outputs": [
    {
     "name": "stdout",
     "output_type": "stream",
     "text": [
      "3\n",
      "(1, 2)\n",
      "(1, 2, 3, 4, 1)\n",
      "(1, 2, 3, 4, 1, 2, 3, 4)\n"
     ]
    }
   ],
   "source": [
    "# tuple  엔덱싱 및 슬라이싱\n",
    "\n",
    "print(t1[2])\n",
    "print(t1[:2])\n",
    "print(t1 + t4) # tuple 연결\n",
    "print(t1 + t1)"
   ]
  },
  {
   "cell_type": "code",
   "execution_count": 7,
   "metadata": {},
   "outputs": [
    {
     "name": "stdout",
     "output_type": "stream",
     "text": [
      "[1, 2, 3, 4]\n",
      "(5, 6, 7)\n"
     ]
    }
   ],
   "source": [
    "# tuple => list\n",
    "print(list(t1))\n",
    "\n",
    "# list => tuple\n",
    "list1 =[5,6,7]\n",
    "print(tuple(list1))"
   ]
  }
 ],
 "metadata": {
  "kernelspec": {
   "display_name": "venv",
   "language": "python",
   "name": "python3"
  },
  "language_info": {
   "codemirror_mode": {
    "name": "ipython",
    "version": 3
   },
   "file_extension": ".py",
   "mimetype": "text/x-python",
   "name": "python",
   "nbconvert_exporter": "python",
   "pygments_lexer": "ipython3",
   "version": "3.13.1"
  }
 },
 "nbformat": 4,
 "nbformat_minor": 2
}
