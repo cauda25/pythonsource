{
 "cells": [
  {
   "cell_type": "markdown",
   "metadata": {},
   "source": [
    ">조건문\n",
    "\n",
    ">{} 을 사용하지 않고 tab 처리"
   ]
  },
  {
   "cell_type": "code",
   "execution_count": 3,
   "metadata": {},
   "outputs": [
    {
     "name": "stdout",
     "output_type": "stream",
     "text": [
      "a는 100과 200 사이에 있다\n"
     ]
    }
   ],
   "source": [
    "a=200\n",
    "if a>=100 and a<= 200 :\n",
    "    print(\"a는 100과 200 사이에 있다\")"
   ]
  },
  {
   "cell_type": "code",
   "execution_count": 4,
   "metadata": {},
   "outputs": [
    {
     "name": "stdout",
     "output_type": "stream",
     "text": [
      "a는 100과 200 사이에 있다\n"
     ]
    }
   ],
   "source": [
    "a=200\n",
    "if 100<= a<= 200 :\n",
    "    print(\"a는 100과 200 사이에 있다\")"
   ]
  },
  {
   "cell_type": "markdown",
   "metadata": {},
   "source": []
  },
  {
   "cell_type": "code",
   "execution_count": 5,
   "metadata": {},
   "outputs": [
    {
     "name": "stdout",
     "output_type": "stream",
     "text": [
      "18\n"
     ]
    }
   ],
   "source": [
    "# 세 개의 숫자 중 가장 큰 수를 출력\n",
    "a,b,c = 12,6,18\n",
    "max = a\n",
    "if max <b:\n",
    "    max =b\n",
    "if max <c:\n",
    "    max =c\n",
    "\n",
    "print(max)"
   ]
  },
  {
   "cell_type": "code",
   "execution_count": 6,
   "metadata": {},
   "outputs": [
    {
     "name": "stdout",
     "output_type": "stream",
     "text": [
      "a는 100보다 작다\n"
     ]
    }
   ],
   "source": [
    "a=55\n",
    "if a<100:\n",
    "    print(\"a는 100보다 작다\")\n",
    "else:\n",
    "    print(\"a는 100보다 크다\")"
   ]
  },
  {
   "cell_type": "code",
   "execution_count": 10,
   "metadata": {},
   "outputs": [
    {
     "name": "stdout",
     "output_type": "stream",
     "text": [
      "홀수\n"
     ]
    }
   ],
   "source": [
    "# 숫자 입력 받은 후 짝수, 홀수 인지 출력하기\n",
    "msg = int(input(\"숫자 입력 :\"))\n",
    "if msg % 2 ==0:\n",
    "    print(\"짝수\")\n",
    "else:\n",
    "    print(\"홀수\")"
   ]
  },
  {
   "cell_type": "code",
   "execution_count": 15,
   "metadata": {},
   "outputs": [
    {
     "name": "stdout",
     "output_type": "stream",
     "text": [
      "2024-12-20 12:57:14.399784\n",
      "2024년 12월 20일 12시 57분 14초\n",
      "오후\n"
     ]
    }
   ],
   "source": [
    "# 지금 현재 시간이 오전, 오후 출력\n",
    "import datetime\n",
    "\n",
    "now = datetime.datetime.now()\n",
    "\n",
    "print(now)\n",
    "print(\"{}년 {}월 {}일 {}시 {}분 {}초\".format(now.year,now.month,now.day,now.hour,now.minute,now.second))\n",
    "\n",
    "if now.hour <12:\n",
    "    print(\"오전\")\n",
    "else:\n",
    "    print(\"오후\")"
   ]
  },
  {
   "cell_type": "code",
   "execution_count": 17,
   "metadata": {},
   "outputs": [
    {
     "data": {
      "text/plain": [
       "'오후'"
      ]
     },
     "execution_count": 17,
     "metadata": {},
     "output_type": "execute_result"
    }
   ],
   "source": [
    "# 조건? 참 : 거짓 (삼항연산자 - 자바,자바스크립트)\n",
    "# 파이썬 :참 if 조건 else 거짓\n",
    "\"오전\" if now.hour <12 else \"오후\""
   ]
  },
  {
   "cell_type": "code",
   "execution_count": 18,
   "metadata": {},
   "outputs": [
    {
     "name": "stdout",
     "output_type": "stream",
     "text": [
      "B등급\n"
     ]
    }
   ],
   "source": [
    "# if ~ else if ~ else(자바,자바 스크립트)\n",
    "# if ~ elif ~ else (파이썬)\n",
    "\n",
    "num =85\n",
    "if num >= 90:\n",
    "    print(\"A등급\")\n",
    "elif num >= 80:\n",
    "    print(\"B등급\")\n",
    "elif num >= 70:\n",
    "    print(\"C등급\")\n",
    "elif num >= 60:\n",
    "    print(\"D등급\")\n",
    "else:\n",
    "    print(\"F등급\")"
   ]
  },
  {
   "cell_type": "code",
   "execution_count": 21,
   "metadata": {},
   "outputs": [
    {
     "name": "stdout",
     "output_type": "stream",
     "text": [
      "B등급\n"
     ]
    }
   ],
   "source": [
    "# 점수 입력 받은 후 점수에 맞는 등급 출력\n",
    "\n",
    "num = int(input(\"점수를 입력해주세요\"))\n",
    "if num >= 90:\n",
    "    print(\"A등급\")\n",
    "elif num >= 80:\n",
    "    print(\"B등급\")\n",
    "elif num >= 70:\n",
    "    print(\"C등급\")\n",
    "elif num >= 60:\n",
    "    print(\"D등급\")\n",
    "else:\n",
    "    print(\"F등급\")"
   ]
  },
  {
   "cell_type": "code",
   "execution_count": 35,
   "metadata": {},
   "outputs": [
    {
     "name": "stdout",
     "output_type": "stream",
     "text": [
      "2 - 5 = -3\n"
     ]
    }
   ],
   "source": [
    "# 숫자 2개 입력 받고,연산자(+,-,*,//,/,**)입력 받기\n",
    "num1 = int(input(\"숫자를 입력해주세요\"))\n",
    "str = (input(\"연산자를 입력해주세요\"))\n",
    "num2 = int(input(\"숫자를 입력해주세요\"))\n",
    "\n",
    "\n",
    "if str == \"+\":\n",
    "    result = num1 + num2\n",
    "elif str == \"-\":\n",
    "    result = num1 - num2\n",
    "elif str == \"*\":\n",
    "    result = num1 * num2\n",
    "elif str == \"/\":\n",
    "    result = num1 / num2\n",
    "elif str == \"//\":\n",
    "    result = num1 // num2\n",
    "else: \n",
    "    result = num1 ** num2\n",
    "\n",
    "print(\"{} {} {} = {}\".format(num1, str ,num2, result))\n"
   ]
  }
 ],
 "metadata": {
  "kernelspec": {
   "display_name": "venv",
   "language": "python",
   "name": "python3"
  },
  "language_info": {
   "codemirror_mode": {
    "name": "ipython",
    "version": 3
   },
   "file_extension": ".py",
   "mimetype": "text/x-python",
   "name": "python",
   "nbconvert_exporter": "python",
   "pygments_lexer": "ipython3",
   "version": "3.13.1"
  }
 },
 "nbformat": 4,
 "nbformat_minor": 2
}
