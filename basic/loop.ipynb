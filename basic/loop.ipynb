{
 "cells": [
  {
   "cell_type": "code",
   "execution_count": 94,
   "metadata": {},
   "outputs": [
    {
     "name": "stdout",
     "output_type": "stream",
     "text": [
      "1 2 3 4 5 6 7 8 9 10 "
     ]
    }
   ],
   "source": [
    "for i in range(1,11):\n",
    "    print(i,end=\" \")"
   ]
  },
  {
   "cell_type": "code",
   "execution_count": 95,
   "metadata": {},
   "outputs": [
    {
     "name": "stdout",
     "output_type": "stream",
     "text": [
      "2 4 6 8 10 "
     ]
    }
   ],
   "source": [
    "for i in range(2,11,2):\n",
    "    print(i , end=\" \")"
   ]
  },
  {
   "cell_type": "code",
   "execution_count": 96,
   "metadata": {},
   "outputs": [
    {
     "name": "stdout",
     "output_type": "stream",
     "text": [
      "1~100 합 : 5050\n"
     ]
    }
   ],
   "source": [
    "# 1~100 합계\n",
    "\n",
    "hap =0\n",
    "\n",
    "for i in range(1,101):\n",
    "    hap += i\n",
    "print(f\"1~100 합 : {hap}\")"
   ]
  },
  {
   "cell_type": "code",
   "execution_count": 97,
   "metadata": {},
   "outputs": [
    {
     "ename": "ValueError",
     "evalue": "invalid literal for int() with base 10: ''",
     "output_type": "error",
     "traceback": [
      "\u001b[1;31m---------------------------------------------------------------------------\u001b[0m",
      "\u001b[1;31mValueError\u001b[0m                                Traceback (most recent call last)",
      "Cell \u001b[1;32mIn[97], line 3\u001b[0m\n\u001b[0;32m      1\u001b[0m \u001b[38;5;66;03m# 1 ~ 사용자가 입력한 숫자 까지 합계\u001b[39;00m\n\u001b[1;32m----> 3\u001b[0m num1 \u001b[38;5;241m=\u001b[39m \u001b[38;5;28;43mint\u001b[39;49m\u001b[43m(\u001b[49m\u001b[38;5;28;43minput\u001b[39;49m\u001b[43m(\u001b[49m\u001b[38;5;124;43m\"\u001b[39;49m\u001b[38;5;124;43m숫자을 입력해주세요\u001b[39;49m\u001b[38;5;124;43m\"\u001b[39;49m\u001b[43m)\u001b[49m\u001b[43m)\u001b[49m\n\u001b[0;32m      4\u001b[0m hap \u001b[38;5;241m=\u001b[39m\u001b[38;5;241m0\u001b[39m\n\u001b[0;32m      6\u001b[0m \u001b[38;5;28;01mfor\u001b[39;00m num1 \u001b[38;5;129;01min\u001b[39;00m \u001b[38;5;28mrange\u001b[39m (\u001b[38;5;241m1\u001b[39m,num1\u001b[38;5;241m+\u001b[39m\u001b[38;5;241m1\u001b[39m):\n",
      "\u001b[1;31mValueError\u001b[0m: invalid literal for int() with base 10: ''"
     ]
    }
   ],
   "source": [
    "# 1 ~ 사용자가 입력한 숫자 까지 합계\n",
    "\n",
    "num1 = int(input(\"숫자을 입력해주세요\"))\n",
    "hap =0\n",
    "\n",
    "for num1 in range (1,num1+1):\n",
    "    hap += num1\n",
    "print(f\"1~{num1} 합 : {hap}\")"
   ]
  },
  {
   "cell_type": "code",
   "execution_count": 13,
   "metadata": {},
   "outputs": [
    {
     "name": "stdout",
     "output_type": "stream",
     "text": [
      "5050\n",
      "2500\n"
     ]
    }
   ],
   "source": [
    "# sum()\n",
    "sum(list(range(1,50)))\n",
    "\n",
    "# 1~100 까지 합\n",
    "print(sum(range(1,101)))\n",
    "\n",
    "# 1~100 까지 홀수 합\n",
    "print(sum(range(1,101,2)))"
   ]
  },
  {
   "cell_type": "code",
   "execution_count": 14,
   "metadata": {},
   "outputs": [
    {
     "name": "stdout",
     "output_type": "stream",
     "text": [
      "0 1 2 \n",
      "0 1 2 \n",
      "0 1 2 \n"
     ]
    }
   ],
   "source": [
    "for i in range(3):\n",
    "    for j in range(3):\n",
    "        print(j, end=\" \")\n",
    "    print()"
   ]
  },
  {
   "cell_type": "code",
   "execution_count": 15,
   "metadata": {},
   "outputs": [
    {
     "name": "stdout",
     "output_type": "stream",
     "text": [
      "2 * 1 = 2\t2 * 2 = 4\t2 * 3 = 6\t2 * 4 = 8\t2 * 5 = 10\t2 * 6 = 12\t2 * 7 = 14\t2 * 8 = 16\t2 * 9 = 18\t\n",
      "3 * 1 = 3\t3 * 2 = 6\t3 * 3 = 9\t3 * 4 = 12\t3 * 5 = 15\t3 * 6 = 18\t3 * 7 = 21\t3 * 8 = 24\t3 * 9 = 27\t\n",
      "4 * 1 = 4\t4 * 2 = 8\t4 * 3 = 12\t4 * 4 = 16\t4 * 5 = 20\t4 * 6 = 24\t4 * 7 = 28\t4 * 8 = 32\t4 * 9 = 36\t\n",
      "5 * 1 = 5\t5 * 2 = 10\t5 * 3 = 15\t5 * 4 = 20\t5 * 5 = 25\t5 * 6 = 30\t5 * 7 = 35\t5 * 8 = 40\t5 * 9 = 45\t\n",
      "6 * 1 = 6\t6 * 2 = 12\t6 * 3 = 18\t6 * 4 = 24\t6 * 5 = 30\t6 * 6 = 36\t6 * 7 = 42\t6 * 8 = 48\t6 * 9 = 54\t\n",
      "7 * 1 = 7\t7 * 2 = 14\t7 * 3 = 21\t7 * 4 = 28\t7 * 5 = 35\t7 * 6 = 42\t7 * 7 = 49\t7 * 8 = 56\t7 * 9 = 63\t\n",
      "8 * 1 = 8\t8 * 2 = 16\t8 * 3 = 24\t8 * 4 = 32\t8 * 5 = 40\t8 * 6 = 48\t8 * 7 = 56\t8 * 8 = 64\t8 * 9 = 72\t\n",
      "9 * 1 = 9\t9 * 2 = 18\t9 * 3 = 27\t9 * 4 = 36\t9 * 5 = 45\t9 * 6 = 54\t9 * 7 = 63\t9 * 8 = 72\t9 * 9 = 81\t\n"
     ]
    }
   ],
   "source": [
    "# 구구단 2~9단 출력\n",
    "for i in range (2,10):\n",
    "    for j in range (1,10):\n",
    "        print(f\"{i} * {j} = {i*j}\", end=\"\\t\")\n",
    "    print()"
   ]
  },
  {
   "cell_type": "code",
   "execution_count": 91,
   "metadata": {},
   "outputs": [
    {
     "name": "stdout",
     "output_type": "stream",
     "text": [
      "Python is Fnu\n"
     ]
    }
   ],
   "source": [
    "# + : 결합\n",
    "str1 = \"Python \" + \"is Fnu\"\n",
    "print(str1)"
   ]
  },
  {
   "cell_type": "code",
   "execution_count": 17,
   "metadata": {},
   "outputs": [
    {
     "name": "stdout",
     "output_type": "stream",
     "text": [
      "파이썬파이썬파이썬\n"
     ]
    }
   ],
   "source": [
    "# * : 복제\n",
    "print(\"파이썬\"*3)"
   ]
  },
  {
   "cell_type": "code",
   "execution_count": 18,
   "metadata": {},
   "outputs": [
    {
     "name": "stdout",
     "output_type": "stream",
     "text": [
      "**************************************************\n",
      "프로그램\n",
      "**************************************************\n"
     ]
    }
   ],
   "source": [
    "print(\"*\"*50)\n",
    "print(\"프로그램\")\n",
    "print(\"*\"*50)"
   ]
  },
  {
   "cell_type": "code",
   "execution_count": 52,
   "metadata": {},
   "outputs": [
    {
     "data": {
      "text/plain": [
       "34"
      ]
     },
     "execution_count": 52,
     "metadata": {},
     "output_type": "execute_result"
    }
   ],
   "source": [
    "# len()\n",
    "a=\"Life is too short, You need Python\"\n",
    "len(a)"
   ]
  },
  {
   "cell_type": "code",
   "execution_count": 53,
   "metadata": {},
   "outputs": [
    {
     "name": "stdout",
     "output_type": "stream",
     "text": [
      "e\n",
      "n\n"
     ]
    }
   ],
   "source": [
    "# 문자열 인덱싱 : 자바에서는 charAt(0)\n",
    "# 시작은 0 (왼쪽부터), 마지막은 -1 (오른쪽)\n",
    "\n",
    "print(a[3])\n",
    "print(a[-1])\n"
   ]
  },
  {
   "cell_type": "code",
   "execution_count": 49,
   "metadata": {},
   "outputs": [
    {
     "name": "stdout",
     "output_type": "stream",
     "text": [
      "Life\n",
      " is \n",
      "Life is \n",
      "too short, You need Python\n",
      "Life is too short, You need Pyt\n"
     ]
    }
   ],
   "source": [
    "# 슬라이싱[시작 : 마지막] : 마지막은 포함 안함\n",
    "\n",
    "print(a[0:4])\n",
    "print(a[4:8])\n",
    "print(a[:8])\n",
    "print(a[8:])\n",
    "print(a[0:-3])\n"
   ]
  },
  {
   "cell_type": "code",
   "execution_count": 26,
   "metadata": {},
   "outputs": [
    {
     "name": "stdout",
     "output_type": "stream",
     "text": [
      "20241223 ,Sunny\n"
     ]
    }
   ],
   "source": [
    "str1 = \"20241223Sunny\"\n",
    "\n",
    "# date, weather\n",
    "\n",
    "date = str1[:8]\n",
    "weather = str1[8:]\n",
    "print(f\"{date} ,{weather}\")\n"
   ]
  },
  {
   "cell_type": "code",
   "execution_count": 30,
   "metadata": {},
   "outputs": [
    {
     "name": "stdout",
     "output_type": "stream",
     "text": [
      "20241223\n",
      "2024-12-23\n"
     ]
    }
   ],
   "source": [
    "\n",
    "# date 를 year,month,day -를 넣어 출력\n",
    "print(date)\n",
    "year = date[:4]\n",
    "month = date[4:6]\n",
    "day = date[6:]\n",
    "print(year,month,day, sep=\"-\")"
   ]
  },
  {
   "cell_type": "code",
   "execution_count": 34,
   "metadata": {},
   "outputs": [
    {
     "name": "stdout",
     "output_type": "stream",
     "text": [
      "남자\n"
     ]
    }
   ],
   "source": [
    "str2 = \"001205-3234567\"\n",
    "\n",
    "# 남자 : 1,3, 여자: 2,4\n",
    "no = str2[7]\n",
    "\n",
    "if no == \"1\" or no == \"3\":\n",
    "    print(\"남자\")\n",
    "elif no == \"2\" or no == \"4\":\n",
    "    print(\"여자\")\n"
   ]
  },
  {
   "cell_type": "code",
   "execution_count": 36,
   "metadata": {},
   "outputs": [
    {
     "name": "stdout",
     "output_type": "stream",
     "text": [
      "남자\n"
     ]
    }
   ],
   "source": [
    "if int(no) % 2 == 1:\n",
    "    print(\"남자\")\n",
    "else:\n",
    "    print(\"여자\")"
   ]
  },
  {
   "cell_type": "code",
   "execution_count": 38,
   "metadata": {},
   "outputs": [
    {
     "name": "stdout",
     "output_type": "stream",
     "text": [
      "L i f e   i s   t o o   s h o r t ,   Y o u   n e e d   P y t h o n "
     ]
    }
   ],
   "source": [
    "for s in a:\n",
    "    print(s, end=\" \")"
   ]
  },
  {
   "cell_type": "code",
   "execution_count": 55,
   "metadata": {},
   "outputs": [
    {
     "name": "stdout",
     "output_type": "stream",
     "text": [
      "♥ ♥ ♥ ♥ \n",
      "♥ ♥ ♥ ♥ ♥ \n",
      "♥ ♥ ♥ ♥ ♥ ♥ ♥ \n",
      "♥ ♥ ♥ ♥ \n",
      "♥ \n"
     ]
    }
   ],
   "source": [
    "# 숫자 입력받기 : 54321\n",
    "\n",
    "# 글자의 개수만큼 반복\n",
    "# 읽어온 숫자 만큼 하트 출력\n",
    "str3 = input(\"숫자를 입력해주세요\")\n",
    "\n",
    "for i in range(len(str3)):\n",
    "    for j in range(int(str3[i])):\n",
    "        print(\"♥\" ,end=\" \")\n",
    "    print()\n",
    "    \n"
   ]
  },
  {
   "cell_type": "code",
   "execution_count": 56,
   "metadata": {},
   "outputs": [
    {
     "data": {
      "text/plain": [
       "2"
      ]
     },
     "execution_count": 56,
     "metadata": {},
     "output_type": "execute_result"
    }
   ],
   "source": [
    "# 문자열 함수\n",
    "# count() : 문자 개수 세기\n",
    "str1 = \"hobby\"\n",
    "\n",
    "# str1 에 b 라는 문자열은 몇 개인가?\n",
    "str1.count('b')"
   ]
  },
  {
   "cell_type": "code",
   "execution_count": 57,
   "metadata": {},
   "outputs": [
    {
     "name": "stdout",
     "output_type": "stream",
     "text": [
      "14\n",
      "-1\n"
     ]
    }
   ],
   "source": [
    "# find() : 문자위치 찾기(찾을수 없는 경우 -1)\n",
    "\n",
    "str1 = \"Python is the best choice\"\n",
    "\n",
    "# str1 문자열에 b 문자열 위치 찾기\n",
    "print(str1.find(\"b\"))\n",
    "print(str1.find(\"k\"))"
   ]
  },
  {
   "cell_type": "code",
   "execution_count": 59,
   "metadata": {},
   "outputs": [
    {
     "name": "stdout",
     "output_type": "stream",
     "text": [
      "14\n"
     ]
    }
   ],
   "source": [
    "#index() : 문자위치 찾기(못찾는 경우 ValueError)\n",
    "\n",
    "print(str1.index(\"b\"))\n",
    "# print(str1.find(\"k\"))"
   ]
  },
  {
   "cell_type": "code",
   "execution_count": 60,
   "metadata": {},
   "outputs": [
    {
     "name": "stdout",
     "output_type": "stream",
     "text": [
      "a,b,c,d,e\n"
     ]
    }
   ],
   "source": [
    "# join() :  문자열 삽입\n",
    "print(\",\".join(\"abcde\"))"
   ]
  },
  {
   "cell_type": "code",
   "execution_count": 61,
   "metadata": {},
   "outputs": [
    {
     "name": "stdout",
     "output_type": "stream",
     "text": [
      "HI\n",
      "hi\n"
     ]
    }
   ],
   "source": [
    "# upper() : 소문자 => 대문자\n",
    "# lower() : 대문자 => 소문자\n",
    "\n",
    "a = \"hi\"\n",
    "print(a.upper())\n",
    "a = \"HI\"\n",
    "print(a.lower())"
   ]
  },
  {
   "cell_type": "code",
   "execution_count": 63,
   "metadata": {},
   "outputs": [
    {
     "name": "stdout",
     "output_type": "stream",
     "text": [
      " hi \n",
      "hi \n",
      " hi \n",
      " hi\n",
      " hi \n",
      "hi\n"
     ]
    }
   ],
   "source": [
    "# 공백제거\n",
    "# lstrip(왼쪽 공백 제거), rstrip(오른쪽), strip(양쪽)\n",
    "\n",
    "a = \" hi \"\n",
    "print(a)\n",
    "print(a.lstrip())\n",
    "\n",
    "a = \" hi \"\n",
    "print(a)\n",
    "print(a.rstrip())\n",
    "\n",
    "a = \" hi \"\n",
    "print(a)\n",
    "print(a.strip())"
   ]
  },
  {
   "cell_type": "code",
   "execution_count": 64,
   "metadata": {},
   "outputs": [
    {
     "data": {
      "text/plain": [
       "'Your leg is too short'"
      ]
     },
     "execution_count": 64,
     "metadata": {},
     "output_type": "execute_result"
    }
   ],
   "source": [
    "# replace() : 문자열 변경\n",
    "a = \"Life is too short\"\n",
    "a.replace(\"Life\",\"Your leg\")"
   ]
  },
  {
   "cell_type": "code",
   "execution_count": 66,
   "metadata": {},
   "outputs": [
    {
     "name": "stdout",
     "output_type": "stream",
     "text": [
      "['Life', 'is', 'too', 'short']\n"
     ]
    },
    {
     "data": {
      "text/plain": [
       "['a', 'b', 'c', 'd']"
      ]
     },
     "execution_count": 66,
     "metadata": {},
     "output_type": "execute_result"
    }
   ],
   "source": [
    "# split() : 문자열 나누기\n",
    "print(a.split()) # 공백을 기준으로 문자열 분리\n",
    "\n",
    "\n",
    "b = \"a:b:c:d\"\n",
    "b.split(\":\") # \":\" 을 기준으로 분리"
   ]
  },
  {
   "cell_type": "code",
   "execution_count": 68,
   "metadata": {},
   "outputs": [
    {
     "name": "stdout",
     "output_type": "stream",
     "text": [
      "True\n",
      "False\n"
     ]
    }
   ],
   "source": [
    "# 문자열 구성 파악\n",
    "# isalpha() ,islower(), inupper()....\n",
    "\n",
    "print(\"12345\".isdigit())\n",
    "print(\"12345\".isalpha())"
   ]
  },
  {
   "cell_type": "code",
   "execution_count": 73,
   "metadata": {},
   "outputs": [
    {
     "name": "stdout",
     "output_type": "stream",
     "text": [
      "kENNry"
     ]
    }
   ],
   "source": [
    "name = \"KennRY\"\n",
    "\n",
    "# 대문자는 소문자로 , 소문자는 대문자로 변경후 출력\n",
    "for s in name:\n",
    "    if s.islower():\n",
    "        print(s.upper(),end=\"\")\n",
    "    else:\n",
    "        print(s.lower(),end=\"\")"
   ]
  },
  {
   "cell_type": "code",
   "execution_count": null,
   "metadata": {},
   "outputs": [
    {
     "name": "stdout",
     "output_type": "stream",
     "text": [
      "10년 후 날짜는 2034년 12월 23일\n"
     ]
    }
   ],
   "source": [
    "# 날짜 입력받은 후 10년 후 날짜 출력\n",
    "# 2024/12/23 => 2023년 12월 23일\n",
    "date = input(\"날짜입력\")\n",
    "\n",
    "date =date.split(\"/\")\n",
    "date\n",
    "\n",
    "print(f\"10년 후 날짜는 {int(date[0])+ 10}년 {date[1]}월 {date[2]}일\")"
   ]
  },
  {
   "cell_type": "code",
   "execution_count": 1,
   "metadata": {},
   "outputs": [
    {
     "name": "stdout",
     "output_type": "stream",
     "text": [
      "생성된 비밀번호는 : nav51!\n"
     ]
    }
   ],
   "source": [
    "str1 = \"https://naver.com\"\n",
    "\n",
    "# https://naver.com\n",
    "# 규칙1 : https:// 제외 => naver.com\n",
    "str1 = str1.replace(\"https://\",\"\")\n",
    "\n",
    "# 규칙2 : 처음 만나는 점 이후 부분은 제외 => naver\n",
    "str1 = str1[:str1.find(\".\")]\n",
    "\n",
    "# 규칙3 : 남은 글자 중 처음 세자리 + 글자개수, 글자 내 e 개수, ! 로 구성\n",
    "e_count = str1.count(\"e\")\n",
    "\n",
    "# 생성된 비밀번호 : nav51!\n",
    "password = str1[:3] + str(len(str1)) + str(e_count) + \"!\"\n",
    "print(f\"생성된 비밀번호는 : {password}\")\n",
    "\n",
    "\n"
   ]
  }
 ],
 "metadata": {
  "kernelspec": {
   "display_name": "venv",
   "language": "python",
   "name": "python3"
  },
  "language_info": {
   "codemirror_mode": {
    "name": "ipython",
    "version": 3
   },
   "file_extension": ".py",
   "mimetype": "text/x-python",
   "name": "python",
   "nbconvert_exporter": "python",
   "pygments_lexer": "ipython3",
   "version": "3.13.1"
  }
 },
 "nbformat": 4,
 "nbformat_minor": 2
}
