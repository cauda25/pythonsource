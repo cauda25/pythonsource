{
 "cells": [
  {
   "cell_type": "markdown",
   "metadata": {},
   "source": [
    "### 딕션너리 자료형\n",
    "- 자바의 map 과 같은 개념\n",
    "- key,value\n",
    "- {} 사용"
   ]
  },
  {
   "cell_type": "code",
   "execution_count": 1,
   "metadata": {},
   "outputs": [
    {
     "name": "stdout",
     "output_type": "stream",
     "text": [
      "{}\n",
      "{}\n",
      "{'name': 'Hong', 'age': 20}\n",
      "{0: 'Hello python', 1: 'hello coding'}\n",
      "{'arr': [1, 2, 3, 4]}\n",
      "{'item': (1, 2, 3, 4)}\n"
     ]
    }
   ],
   "source": [
    "# 생성\n",
    "dict1 = {}\n",
    "dict2 = dict()\n",
    "dict3 = {\"name\":\"Hong\",\"age\":20}\n",
    "dict4 = {0:\"Hello python\", 1:\"hello coding\"}\n",
    "dict5 = {\"arr\":[1,2,3,4]}\n",
    "dict6 = {\"item\":(1,2,3,4)}\n",
    "\n",
    "print(dict1)\n",
    "print(dict2)\n",
    "print(dict3)\n",
    "print(dict4)\n",
    "print(dict5)\n",
    "print(dict6)"
   ]
  },
  {
   "cell_type": "code",
   "execution_count": 4,
   "metadata": {},
   "outputs": [
    {
     "name": "stdout",
     "output_type": "stream",
     "text": [
      "Hong\n",
      "Hong\n",
      "None\n"
     ]
    }
   ],
   "source": [
    "#조회\n",
    "\n",
    "print(dict3[\"name\"])\n",
    "# print(dict3[\"addr\"]) KeyError : key값이 없음 \n",
    "\n",
    "print(dict3.get(\"name\"))\n",
    "print(dict3.get(\"addr\")) # 없는 키 값에 대해서 .get()을 통해 안전하게 불러오기"
   ]
  },
  {
   "cell_type": "code",
   "execution_count": 5,
   "metadata": {},
   "outputs": [
    {
     "data": {
      "text/plain": [
       "{'name': 'Hong', 'age': 20, 'birth': '20201215'}"
      ]
     },
     "execution_count": 5,
     "metadata": {},
     "output_type": "execute_result"
    }
   ],
   "source": [
    "# 추가\n",
    "\n",
    "dict3['birth']=\"20201215\"\n",
    "dict3"
   ]
  },
  {
   "cell_type": "code",
   "execution_count": 6,
   "metadata": {},
   "outputs": [
    {
     "data": {
      "text/plain": [
       "{0: 'Hello python', 1: 'hello coding', 2: [1, 2, 3]}"
      ]
     },
     "execution_count": 6,
     "metadata": {},
     "output_type": "execute_result"
    }
   ],
   "source": [
    "dict4[2] = [1,2,3]\n",
    "dict4"
   ]
  },
  {
   "cell_type": "code",
   "execution_count": 7,
   "metadata": {},
   "outputs": [
    {
     "data": {
      "text/plain": [
       "{1: 'hello coding', 2: [1, 2, 3]}"
      ]
     },
     "execution_count": 7,
     "metadata": {},
     "output_type": "execute_result"
    }
   ],
   "source": [
    "# 삭제\n",
    "\n",
    "del dict4[0]\n",
    "dict4"
   ]
  },
  {
   "cell_type": "code",
   "execution_count": 8,
   "metadata": {},
   "outputs": [
    {
     "name": "stdout",
     "output_type": "stream",
     "text": [
      "dict_keys(['name', 'age', 'birth'])\n",
      "dict_keys([1, 2])\n"
     ]
    }
   ],
   "source": [
    "# key(),vlaues(),items()\n",
    "print(dict3.keys())\n",
    "print(dict4.keys())"
   ]
  },
  {
   "cell_type": "code",
   "execution_count": 10,
   "metadata": {},
   "outputs": [
    {
     "name": "stdout",
     "output_type": "stream",
     "text": [
      "dict_keys(['name', 'age', 'birth'])\n",
      "dict_keys([1, 2])\n",
      "dict_values(['hello coding', [1, 2, 3]])\n",
      "dict_items([(1, 'hello coding'), (2, [1, 2, 3])])\n"
     ]
    }
   ],
   "source": [
    "# keys() : dict의 key 값 가져오기 ,values(),items()\n",
    "print(dict3.keys())\n",
    "print(dict4.keys())\n",
    "print(dict4.values())\n",
    "print(dict4.items())"
   ]
  },
  {
   "cell_type": "code",
   "execution_count": 12,
   "metadata": {},
   "outputs": [
    {
     "name": "stdout",
     "output_type": "stream",
     "text": [
      "True\n",
      "True\n"
     ]
    }
   ],
   "source": [
    "# in ,not in\n",
    "print(\"name\" in dict3) # dict3에 name 키가 존재하는지\n",
    "print(\"addr\" not in dict3) # dict3에 addr 키가 존재하지 않는지"
   ]
  },
  {
   "cell_type": "code",
   "execution_count": 13,
   "metadata": {},
   "outputs": [
    {
     "data": {
      "text/plain": [
       "{1: 2, 2: 1, 3: 3, 4: 2, 5: 3, 6: 2, 7: 4, 9: 1}"
      ]
     },
     "execution_count": 13,
     "metadata": {},
     "output_type": "execute_result"
    }
   ],
   "source": [
    "numbers = [1,2,3,4,5,6,7,3,6,7,1,3,5,7,5,7,4,9]\n",
    "counters = {}\n",
    "\n",
    "# 리스트안에 동일한 숫자가 몇 번 반복되었는지 dict 구조로 반환\n",
    "# 예시 {1:3,2:4,6:1}\n",
    "for num in numbers:\n",
    "    counters[num] = numbers.count(num)\n",
    "\n",
    "counters"
   ]
  },
  {
   "cell_type": "code",
   "execution_count": 17,
   "metadata": {},
   "outputs": [
    {
     "name": "stdout",
     "output_type": "stream",
     "text": [
      "사과\n",
      "사과가 포함됨\n"
     ]
    }
   ],
   "source": [
    "fruits = {\"봄\":\"딸기\",\"여름\":\"수박\",\"가을\":\"사과\",\"겨울\":\"귤\"}\n",
    "\n",
    "# 가을에 해당하는 과일 출력\n",
    "print(fruits.get(\"가을\"))\n",
    "# 사과가 포함되었다면 사과가 포함됨 출력(사과가 포함되지 않음)\n",
    "# for k,v in fruits.items():\n",
    "#     if v==\"사과\":\n",
    "#         print(\"사과가 포함됨\")\n",
    "#         break\n",
    "#     else:\n",
    "#         print(\"사과가 포함되지 않음\")\n",
    "\n",
    "if \"사과\" in fruits.values():\n",
    "    print(\"사과가 포함됨\")\n",
    "else:\n",
    "    print(\"사과가 포함되지 않음\")"
   ]
  },
  {
   "cell_type": "code",
   "execution_count": 19,
   "metadata": {},
   "outputs": [
    {
     "name": "stdout",
     "output_type": "stream",
     "text": [
      "80\n"
     ]
    },
    {
     "data": {
      "text/plain": [
       "{'A': 90, 'C': 70}"
      ]
     },
     "execution_count": 19,
     "metadata": {},
     "output_type": "execute_result"
    }
   ],
   "source": [
    "#dict1 생성\n",
    "# {\"A\":90,\"B\":80,\"C\":70}\n",
    "dict1 = {\"A\":90,\"B\":80,\"C\":70}\n",
    "\n",
    "# dict1 에서 B 키에 해당하는 값 출력\n",
    "print(dict1.get(\"B\"))\n",
    "\n",
    "# dict1 에서 B 키 삭제 후 dict1 출력\n",
    "del dict1[\"B\"]\n",
    "dict1"
   ]
  },
  {
   "cell_type": "code",
   "execution_count": 20,
   "metadata": {},
   "outputs": [
    {
     "name": "stdout",
     "output_type": "stream",
     "text": [
      "dict_keys(['성인', '청소년', '아동', '소아'])\n",
      "dict_values([15000, 7000, 3000, 0])\n"
     ]
    }
   ],
   "source": [
    "# dict2 생성\n",
    "# {\"성인\":15000,\"청소년\":7000,\"아동\":3000}\n",
    "dict2 = {\"성인\":15000,\"청소년\":7000,\"아동\":3000}\n",
    "\n",
    "# dict2에 \"소아\":0 추가\n",
    "dict2[\"소아\"] = 0\n",
    "\n",
    "# dict2의 모든 키 값 출력\n",
    "print(dict2.keys())\n",
    "\n",
    "# dict2의 모든 value 값 출력\n",
    "print(dict2.values())"
   ]
  }
 ],
 "metadata": {
  "kernelspec": {
   "display_name": "venv",
   "language": "python",
   "name": "python3"
  },
  "language_info": {
   "codemirror_mode": {
    "name": "ipython",
    "version": 3
   },
   "file_extension": ".py",
   "mimetype": "text/x-python",
   "name": "python",
   "nbconvert_exporter": "python",
   "pygments_lexer": "ipython3",
   "version": "3.13.1"
  }
 },
 "nbformat": 4,
 "nbformat_minor": 2
}
