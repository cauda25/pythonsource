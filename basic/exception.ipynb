{
 "cells": [
  {
   "cell_type": "code",
   "execution_count": 2,
   "metadata": {},
   "outputs": [],
   "source": [
    "dict1 = {\"name\":\"kim\",\"Age\":13,\"city\":\"seoul\"}"
   ]
  },
  {
   "cell_type": "code",
   "execution_count": 5,
   "metadata": {},
   "outputs": [
    {
     "name": "stdout",
     "output_type": "stream",
     "text": [
      "ValueError 발생\n"
     ]
    }
   ],
   "source": [
    "name = [\"kim\",\"park\",\"lee\"]\n",
    "\n",
    "try:\n",
    "    z =\"choi\"\n",
    "    x = name.index(z)\n",
    "    print(f\"{z} Found it ! inname {x+1}\")\n",
    "except ValueError:\n",
    "    print(\"ValueError 발생\")\n",
    "else: # 에러가 발생하지 않을 경우 실행\n",
    "    print(\"ok\")"
   ]
  },
  {
   "cell_type": "code",
   "execution_count": 6,
   "metadata": {},
   "outputs": [
    {
     "name": "stdout",
     "output_type": "stream",
     "text": [
      "ValueError 발생\n",
      "무조건 실행\n"
     ]
    }
   ],
   "source": [
    "name = [\"kim\",\"park\",\"lee\"]\n",
    "\n",
    "try:\n",
    "    z =\"choi\"\n",
    "    x = name.index(z)\n",
    "    print(f\"{z} Found it ! inname {x+1}\")\n",
    "except ValueError:\n",
    "    print(\"ValueError 발생\")\n",
    "else: # 에러가 발생하지 않을 경우 실행\n",
    "    print(\"ok\")\n",
    "finally:\n",
    "    print(\"무조건 실행\")"
   ]
  },
  {
   "cell_type": "code",
   "execution_count": 7,
   "metadata": {},
   "outputs": [
    {
     "name": "stdout",
     "output_type": "stream",
     "text": [
      "Try\n",
      "OK\n"
     ]
    }
   ],
   "source": [
    "# try ~ except\n",
    "# try ~ except ~ else\n",
    "# try ~ except ~ else ~ finally\n",
    "\n",
    "try:\n",
    "    print(\"Try\")\n",
    "finally:\n",
    "    print(\"OK\")"
   ]
  },
  {
   "cell_type": "code",
   "execution_count": 8,
   "metadata": {},
   "outputs": [
    {
     "name": "stdout",
     "output_type": "stream",
     "text": [
      "문제 발생\n"
     ]
    }
   ],
   "source": [
    "# 예외 직접 발생 : raise\n",
    "\n",
    "try:\n",
    "    a =\"333\"\n",
    "    if a ==\"Kim\":\n",
    "        print(\"OK 허가\")\n",
    "    else:\n",
    "        raise ValueError\n",
    "except ValueError:\n",
    "    print(\"문제 발생\")\n",
    "except Exception as e: # 어떤 오류가 발생할 지 모를 떄\n",
    "    print(e)\n",
    "else:\n",
    "    print(\"OK\")"
   ]
  }
 ],
 "metadata": {
  "kernelspec": {
   "display_name": "venv",
   "language": "python",
   "name": "python3"
  },
  "language_info": {
   "codemirror_mode": {
    "name": "ipython",
    "version": 3
   },
   "file_extension": ".py",
   "mimetype": "text/x-python",
   "name": "python",
   "nbconvert_exporter": "python",
   "pygments_lexer": "ipython3",
   "version": "3.13.1"
  }
 },
 "nbformat": 4,
 "nbformat_minor": 2
}
