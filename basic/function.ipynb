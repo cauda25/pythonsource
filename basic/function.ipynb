{
 "cells": [
  {
   "cell_type": "markdown",
   "metadata": {},
   "source": [
    "###함수\n",
    "```\n",
    "def 함수명() :\n",
    "    함수가 해야할 일\n",
    "```"
   ]
  },
  {
   "cell_type": "code",
   "execution_count": 2,
   "metadata": {},
   "outputs": [
    {
     "name": "stdout",
     "output_type": "stream",
     "text": [
      "hello\n"
     ]
    }
   ],
   "source": [
    "def hello():\n",
    "    print(\"hello\")\n",
    "\n",
    "hello()"
   ]
  },
  {
   "cell_type": "code",
   "execution_count": 4,
   "metadata": {},
   "outputs": [
    {
     "data": {
      "text/plain": [
       "'hello'"
      ]
     },
     "execution_count": 4,
     "metadata": {},
     "output_type": "execute_result"
    }
   ],
   "source": [
    "def hello2():\n",
    "    return \"hello\"\n",
    "\n",
    "hello2()"
   ]
  },
  {
   "cell_type": "code",
   "execution_count": 5,
   "metadata": {},
   "outputs": [
    {
     "name": "stdout",
     "output_type": "stream",
     "text": [
      "3 + 4 = <function add at 0x000002AACDFCDE40>\n"
     ]
    }
   ],
   "source": [
    "def add(a,b):\n",
    "    return a + b\n",
    "print(f\"3 + 4 = {add}\")"
   ]
  },
  {
   "cell_type": "code",
   "execution_count": null,
   "metadata": {},
   "outputs": [],
   "source": [
    "# 기본 파라메터 : 인자에 기본값()을 주는 형태\n",
    "\n",
    "def printf_b_times(value,n=2):\n",
    "    return"
   ]
  },
  {
   "cell_type": "code",
   "execution_count": 6,
   "metadata": {},
   "outputs": [
    {
     "name": "stdout",
     "output_type": "stream",
     "text": [
      "()\n",
      "({'name': 'hong', 'age': 20},)\n",
      "(35, 24, 25, 63)\n",
      "('A', 'B', 'C', 'D')\n",
      "(['A', 'B', 'C', 'D'],)\n"
     ]
    }
   ],
   "source": [
    "# 가변 파라메터(파라메터의 개수가 정해져 있지 않음)\n",
    "def add_many(*args):\n",
    "    print(args)\n",
    "\n",
    "add_many()\n",
    "add_many({\"name\":\"hong\",\"age\":20})\n",
    "add_many(35,24,25,63)\n",
    "add_many(\"A\",\"B\",\"C\",\"D\")\n",
    "add_many([\"A\",\"B\",\"C\",\"D\"])"
   ]
  },
  {
   "cell_type": "code",
   "execution_count": 1,
   "metadata": {},
   "outputs": [],
   "source": [
    "def sum_mul(choice, *args):\n",
    "    if choice == \"mul\":\n",
    "        result = 1\n",
    "        for i in args:\n",
    "            result *= i\n",
    "    \n",
    "    elif choice == \"add\":\n",
    "        result =0\n",
    "        for i in args:\n",
    "            result += i\n",
    "    return result"
   ]
  },
  {
   "cell_type": "code",
   "execution_count": 2,
   "metadata": {},
   "outputs": [
    {
     "name": "stdout",
     "output_type": "stream",
     "text": [
      "덧셈 : 15\n",
      "곱셈 : 120\n"
     ]
    }
   ],
   "source": [
    "print(f\"덧셈 : {sum_mul(\"add\",1,2,3,4,5)}\")\n",
    "print(f\"곱셈 : {sum_mul(\"mul\",1,2,3,4,5)}\")"
   ]
  },
  {
   "cell_type": "code",
   "execution_count": 4,
   "metadata": {},
   "outputs": [],
   "source": [
    "# kwargs : **kwargs (딕셔너리 형태로 처리)\n",
    "\n",
    "def args_func1(**kwargs):\n",
    "    print(\"kwargs\",kwargs)\n",
    "\n",
    "    for k in kwargs.keys():\n",
    "        print(k)\n",
    "\n",
    "    for k,v in kwargs.items():\n",
    "        print(k,v)\n",
    "\n"
   ]
  },
  {
   "cell_type": "code",
   "execution_count": 5,
   "metadata": {},
   "outputs": [
    {
     "name": "stdout",
     "output_type": "stream",
     "text": [
      "kwargs {'name': 'Park'}\n",
      "name\n",
      "name Park\n",
      "kwargs {'name1': 'Park', 'name2': 'Kim', 'active': True}\n",
      "name1\n",
      "name2\n",
      "active\n",
      "name1 Park\n",
      "name2 Kim\n",
      "active True\n",
      "kwargs {'name': 'Park', 'age': 10, 'title': 'Title'}\n",
      "name\n",
      "age\n",
      "title\n",
      "name Park\n",
      "age 10\n",
      "title Title\n",
      "kwargs {'name': 'Park', 'addr': 'seoul'}\n",
      "name\n",
      "addr\n",
      "name Park\n",
      "addr seoul\n",
      "kwargs {'name': 'Park', 'addr': 'seoul', 'tel': '01012345678'}\n",
      "name\n",
      "addr\n",
      "tel\n",
      "name Park\n",
      "addr seoul\n",
      "tel 01012345678\n"
     ]
    }
   ],
   "source": [
    "args_func1(name=\"Park\")\n",
    "args_func1(name1=\"Park\" , name2=\"Kim\", active=True)\n",
    "args_func1(name=\"Park\", age= 10,title=\"Title\")\n",
    "args_func1(name=\"Park\",addr=\"seoul\")\n",
    "args_func1(name=\"Park\",addr=\"seoul\",tel=\"01012345678\")"
   ]
  },
  {
   "cell_type": "code",
   "execution_count": 6,
   "metadata": {},
   "outputs": [],
   "source": [
    "def example(arg1, arg2=10, *args, **kwargs):\n",
    "    print(arg1,arg2,args,kwargs)"
   ]
  },
  {
   "cell_type": "code",
   "execution_count": 7,
   "metadata": {},
   "outputs": [
    {
     "name": "stdout",
     "output_type": "stream",
     "text": [
      "10 10 () {}\n",
      "10 25 () {}\n",
      "10 20 ('park', 'kim') {}\n",
      "10 25 ('kim', 'cho') {'age': 15, 'name': 'park'}\n"
     ]
    }
   ],
   "source": [
    "example(10)\n",
    "example(10,25)\n",
    "example(10,20,\"park\",\"kim\")\n",
    "example(10,25,\"kim\",\"cho\",age=15,name=\"park\")"
   ]
  },
  {
   "cell_type": "markdown",
   "metadata": {},
   "source": [
    "# 다중 리턴 : 튜플로 리턴 됨\n",
    "```\n",
    "    java나 javascript 는 하나만 리턴\n",
    "\n",
    "    void main(){ return a}\n",
    "    function func(){ return b}\n",
    "```"
   ]
  },
  {
   "cell_type": "code",
   "execution_count": 9,
   "metadata": {},
   "outputs": [],
   "source": [
    "def sum_and_mul(a,b):\n",
    "    return a + b, a * b"
   ]
  },
  {
   "cell_type": "code",
   "execution_count": 11,
   "metadata": {},
   "outputs": [
    {
     "name": "stdout",
     "output_type": "stream",
     "text": [
      "덧셈 : 8 ,곱셈 : 15\n"
     ]
    }
   ],
   "source": [
    "result1, result2 = sum_and_mul(5,3)\n",
    "print(f\"덧셈 : {result1} ,곱셈 : {result2}\")"
   ]
  },
  {
   "cell_type": "code",
   "execution_count": 12,
   "metadata": {},
   "outputs": [
    {
     "name": "stdout",
     "output_type": "stream",
     "text": [
      "(8, 15)\n"
     ]
    }
   ],
   "source": [
    "result3 = sum_and_mul(5,3)\n",
    "print(result3)"
   ]
  },
  {
   "cell_type": "code",
   "execution_count": 13,
   "metadata": {},
   "outputs": [],
   "source": [
    "def func2(x):\n",
    "    y1 = x * 100\n",
    "    y2 = x * 200\n",
    "    y3 = x * 300\n",
    "\n",
    "    # return y1,y2,y3 => tuple 로 리턴\n",
    "    return [y1,y2,y3]"
   ]
  },
  {
   "cell_type": "code",
   "execution_count": 14,
   "metadata": {},
   "outputs": [
    {
     "name": "stdout",
     "output_type": "stream",
     "text": [
      "[1000, 2000, 3000]\n"
     ]
    }
   ],
   "source": [
    "list1 = func2(10)\n",
    "print(list1)"
   ]
  },
  {
   "cell_type": "code",
   "execution_count": 16,
   "metadata": {},
   "outputs": [
    {
     "name": "stdout",
     "output_type": "stream",
     "text": [
      "6 + 3 = 9\n",
      "6 - 3 = 3\n",
      "6 * 3 = 18\n",
      "6 // 3 = 2\n"
     ]
    }
   ],
   "source": [
    "# 사칙연사 함수\n",
    "def fourRules(num1 , num2,op):\n",
    "    if op == \"+\":\n",
    "        result = num1 + num2\n",
    "    elif op == \"-\":\n",
    "        result = num1 - num2\n",
    "    elif op == \"*\":\n",
    "        result = num1 * num2\n",
    "    elif op == \"//\":\n",
    "        result = num1 // num2\n",
    "    return result\n",
    "\n",
    "a,b = 6,3\n",
    "# 사칙연산 결과 출력\n",
    "print(f\"{a} + {b} = {fourRules(a,b,\"+\")}\")\n",
    "print(f\"{a} - {b} = {fourRules(a,b,\"-\")}\")\n",
    "print(f\"{a} * {b} = {fourRules(a,b,\"*\")}\")\n",
    "print(f\"{a} // {b} = {fourRules(a,b,\"//\")}\")"
   ]
  },
  {
   "cell_type": "code",
   "execution_count": 20,
   "metadata": {},
   "outputs": [
    {
     "name": "stdout",
     "output_type": "stream",
     "text": [
      "8 // 2 = 4\n"
     ]
    }
   ],
   "source": [
    "# a,b,op 입력 받기\n",
    "a = int(input(\"숫자를 입력하세요\"))\n",
    "b = int(input(\"숫자를 입력하세요\"))\n",
    "op = input(\"연산자를 입력하세요\")\n",
    "\n",
    "# def fourRules(num1 , num2,op):\n",
    "#     if op == \"+\":\n",
    "#         result = num1 + num2\n",
    "#     elif op == \"-\":\n",
    "#         result = num1 - num2\n",
    "#     elif op == \"*\":\n",
    "#         result = num1 * num2\n",
    "#     elif op == \"//\":\n",
    "#         result = num1 // num2\n",
    "#     return result\n",
    "\n",
    "# 사칙연산 결과 출력\n",
    "print(f\"{a} {op} {b} = {fourRules(a,b,op)}\")\n"
   ]
  },
  {
   "cell_type": "code",
   "execution_count": 22,
   "metadata": {},
   "outputs": [],
   "source": [
    "# 유효 범위\n",
    "a=3\n",
    "\n",
    "def func2(a):\n",
    "    print(f\"함수 내부 {a}\")\n",
    "    a +=2\n",
    "    print(f\"함수 내부 {a}\")"
   ]
  },
  {
   "cell_type": "code",
   "execution_count": 24,
   "metadata": {},
   "outputs": [
    {
     "name": "stdout",
     "output_type": "stream",
     "text": [
      "3\n",
      "함수 내부 1\n",
      "함수 내부 3\n"
     ]
    }
   ],
   "source": [
    "# 전역 변수\n",
    "print(a)\n",
    "\n",
    "func2(1)"
   ]
  },
  {
   "cell_type": "code",
   "execution_count": 27,
   "metadata": {},
   "outputs": [],
   "source": [
    "def func3():\n",
    "    # 함수 내부에서 전역 변수 사용\n",
    "    global a\n",
    "    a += 2\n",
    "    return a"
   ]
  },
  {
   "cell_type": "code",
   "execution_count": 28,
   "metadata": {},
   "outputs": [
    {
     "name": "stdout",
     "output_type": "stream",
     "text": [
      "5\n"
     ]
    }
   ],
   "source": [
    "print(func3())"
   ]
  },
  {
   "cell_type": "markdown",
   "metadata": {},
   "source": [
    "### 람다 함수\n",
    "- 단일문으로 표현되는 익명함수\n",
    "- 코드 상에서 한번만 사용되는 기능이 필요할 때 함수로 작성하지 않고 1회성으로 만들 때 주로 사용"
   ]
  },
  {
   "cell_type": "code",
   "execution_count": 29,
   "metadata": {},
   "outputs": [
    {
     "data": {
      "text/plain": [
       "25"
      ]
     },
     "execution_count": 29,
     "metadata": {},
     "output_type": "execute_result"
    }
   ],
   "source": [
    "def square(x):\n",
    "    return x ** 2\n",
    "\n",
    "square(5)"
   ]
  },
  {
   "cell_type": "code",
   "execution_count": 30,
   "metadata": {},
   "outputs": [
    {
     "data": {
      "text/plain": [
       "36"
      ]
     },
     "execution_count": 30,
     "metadata": {},
     "output_type": "execute_result"
    }
   ],
   "source": [
    "square = lambda x:x ** 2\n",
    "square(6)"
   ]
  },
  {
   "cell_type": "code",
   "execution_count": 31,
   "metadata": {},
   "outputs": [
    {
     "data": {
      "text/plain": [
       "27"
      ]
     },
     "execution_count": 31,
     "metadata": {},
     "output_type": "execute_result"
    }
   ],
   "source": [
    "def add(x,y):\n",
    "    return x+y\n",
    "\n",
    "add(15,12)"
   ]
  },
  {
   "cell_type": "code",
   "execution_count": 32,
   "metadata": {},
   "outputs": [
    {
     "data": {
      "text/plain": [
       "24"
      ]
     },
     "execution_count": 32,
     "metadata": {},
     "output_type": "execute_result"
    }
   ],
   "source": [
    "add = lambda x,y: x+y\n",
    "add(18,6)"
   ]
  },
  {
   "cell_type": "code",
   "execution_count": 33,
   "metadata": {},
   "outputs": [
    {
     "data": {
      "text/plain": [
       "['alexander3', 'bob', 'charles', 'teddy']"
      ]
     },
     "execution_count": 33,
     "metadata": {},
     "output_type": "execute_result"
    }
   ],
   "source": [
    "strings = [\"bob\",\"charles\",\"alexander3\",\"teddy\"]\n",
    "\n",
    "strings.sort() # 오름차순\n",
    "\n",
    "strings"
   ]
  },
  {
   "cell_type": "code",
   "execution_count": 34,
   "metadata": {},
   "outputs": [
    {
     "data": {
      "text/plain": [
       "['teddy', 'charles', 'bob', 'alexander3']"
      ]
     },
     "execution_count": 34,
     "metadata": {},
     "output_type": "execute_result"
    }
   ],
   "source": [
    "strings = [\"bob\",\"charles\",\"alexander3\",\"teddy\"]\n",
    "\n",
    "strings.sort(reverse=True) # 내림차순\n",
    "\n",
    "strings"
   ]
  },
  {
   "cell_type": "code",
   "execution_count": 35,
   "metadata": {},
   "outputs": [
    {
     "data": {
      "text/plain": [
       "['bob', 'teddy', 'charles', 'alexander3']"
      ]
     },
     "execution_count": 35,
     "metadata": {},
     "output_type": "execute_result"
    }
   ],
   "source": [
    "# 단어 길이 리턴 함수\n",
    "def str_len(word):\n",
    "    return len(word)\n",
    "\n",
    "strings = [\"bob\",\"charles\",\"alexander3\",\"teddy\"]\n",
    "\n",
    "strings.sort(key=str_len) # 정렬 기준 지정 후 정렬 - 단어의 길이가 짧은 순서\n",
    "\n",
    "strings"
   ]
  },
  {
   "cell_type": "code",
   "execution_count": 36,
   "metadata": {},
   "outputs": [
    {
     "data": {
      "text/plain": [
       "['bob', 'teddy', 'charles', 'alexander3']"
      ]
     },
     "execution_count": 36,
     "metadata": {},
     "output_type": "execute_result"
    }
   ],
   "source": [
    "strings = [\"bob\",\"charles\",\"alexander3\",\"teddy\"]\n",
    "\n",
    "strings.sort(key=lambda s:len(s)) # 정렬 기준 지정 후 정렬 - 단어의 길이가 짧은 순서\n",
    "\n",
    "strings"
   ]
  },
  {
   "cell_type": "code",
   "execution_count": 37,
   "metadata": {},
   "outputs": [
    {
     "data": {
      "text/plain": [
       "['alexander3', 'charles', 'teddy', 'bob']"
      ]
     },
     "execution_count": 37,
     "metadata": {},
     "output_type": "execute_result"
    }
   ],
   "source": [
    "strings = [\"bob\",\"charles\",\"alexander3\",\"teddy\"]\n",
    "\n",
    "strings.sort(key=lambda s:len(s),reverse=True) # 정렬 기준 지정 후 정렬 - 단어의 길이가 긴 순서\n",
    "\n",
    "strings"
   ]
  },
  {
   "cell_type": "markdown",
   "metadata": {},
   "source": [
    "- filter(함수 ,데이터) : 반복가능한 데이터 요소 순서대로 함수를 호출했을 때 리턴값이 참인것만 묶어서 리턴\n",
    "- map(함수 ,데이터) : 반복가능한 데이터 요소에 함수를 적용한 결과 리턴\n",
    "- reduce()"
   ]
  },
  {
   "cell_type": "code",
   "execution_count": 38,
   "metadata": {},
   "outputs": [
    {
     "data": {
      "text/plain": [
       "[2, 6, 8]"
      ]
     },
     "execution_count": 38,
     "metadata": {},
     "output_type": "execute_result"
    }
   ],
   "source": [
    "def even(arr):\n",
    "    result = []\n",
    "    for i in arr:\n",
    "        if i % 2 == 0:\n",
    "            result.append(i)\n",
    "    return result\n",
    "\n",
    "even([1,2,3,6,8,9])"
   ]
  },
  {
   "cell_type": "code",
   "execution_count": 40,
   "metadata": {},
   "outputs": [
    {
     "name": "stdout",
     "output_type": "stream",
     "text": [
      "[2, 6, 8, 10]\n"
     ]
    }
   ],
   "source": [
    "def even(n):\n",
    "    return n % 2 == 0\n",
    "\n",
    "print(list(filter(even,[1,2,3,6,8,9,10])))"
   ]
  },
  {
   "cell_type": "code",
   "execution_count": 41,
   "metadata": {},
   "outputs": [
    {
     "name": "stdout",
     "output_type": "stream",
     "text": [
      "[2, 6, 8, 10]\n"
     ]
    }
   ],
   "source": [
    "print(list(filter(lambda x:x%2==0,[1,2,3,6,8,9,10])))"
   ]
  },
  {
   "cell_type": "code",
   "execution_count": 42,
   "metadata": {},
   "outputs": [
    {
     "data": {
      "text/plain": [
       "[1, 2, 6]"
      ]
     },
     "execution_count": 42,
     "metadata": {},
     "output_type": "execute_result"
    }
   ],
   "source": [
    "# 양수만 추출\n",
    "def positive(list1):\n",
    "    result = []\n",
    "    for i in list1:\n",
    "        if i >0:\n",
    "            result.append(i)\n",
    "    return result\n",
    "\n",
    "list1 = [1,-3,2,0,-5,6]\n",
    "positive(list1)"
   ]
  },
  {
   "cell_type": "code",
   "execution_count": 45,
   "metadata": {},
   "outputs": [
    {
     "data": {
      "text/plain": [
       "[1, 2, 6]"
      ]
     },
     "execution_count": 45,
     "metadata": {},
     "output_type": "execute_result"
    }
   ],
   "source": [
    "list(filter(lambda x:x>0,list1))"
   ]
  },
  {
   "cell_type": "code",
   "execution_count": 46,
   "metadata": {},
   "outputs": [
    {
     "data": {
      "text/plain": [
       "[2, 4, 6, 12, 16, 20, 22, 24, 26, 28, 30]"
      ]
     },
     "execution_count": 46,
     "metadata": {},
     "output_type": "execute_result"
    }
   ],
   "source": [
    "# 리스트의 각 요소에 2를 곱해 리턴\n",
    "\n",
    "def two_times(nums):\n",
    "    result = []\n",
    "\n",
    "    for i in nums:\n",
    "        result.append(i*2)\n",
    "    return result\n",
    "\n",
    "num_list =[1,2,3,6,8,10,11,12,13,14,15]\n",
    "two_times(num_list)"
   ]
  },
  {
   "cell_type": "code",
   "execution_count": 47,
   "metadata": {},
   "outputs": [
    {
     "data": {
      "text/plain": [
       "[2, 4, 6, 12, 16, 20, 22, 24, 26, 28, 30]"
      ]
     },
     "execution_count": 47,
     "metadata": {},
     "output_type": "execute_result"
    }
   ],
   "source": [
    "def two_times1(x):\n",
    "    return x * 2\n",
    "\n",
    "list(map(two_times1, num_list))"
   ]
  },
  {
   "cell_type": "code",
   "execution_count": 48,
   "metadata": {},
   "outputs": [
    {
     "data": {
      "text/plain": [
       "[2, 4, 6, 12, 16, 20, 22, 24, 26, 28, 30]"
      ]
     },
     "execution_count": 48,
     "metadata": {},
     "output_type": "execute_result"
    }
   ],
   "source": [
    "list(map(lambda x:x*2,num_list))"
   ]
  },
  {
   "cell_type": "code",
   "execution_count": null,
   "metadata": {},
   "outputs": [],
   "source": []
  }
 ],
 "metadata": {
  "kernelspec": {
   "display_name": "venv",
   "language": "python",
   "name": "python3"
  },
  "language_info": {
   "codemirror_mode": {
    "name": "ipython",
    "version": 3
   },
   "file_extension": ".py",
   "mimetype": "text/x-python",
   "name": "python",
   "nbconvert_exporter": "python",
   "pygments_lexer": "ipython3",
   "version": "3.13.1"
  }
 },
 "nbformat": 4,
 "nbformat_minor": 2
}
