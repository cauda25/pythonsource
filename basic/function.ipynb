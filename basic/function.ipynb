{
 "cells": [
  {
   "cell_type": "markdown",
   "metadata": {},
   "source": [
    "###함수\n",
    "```\n",
    "def 함수명() :\n",
    "    함수가 해야할 일\n",
    "```"
   ]
  },
  {
   "cell_type": "code",
   "execution_count": 2,
   "metadata": {},
   "outputs": [
    {
     "name": "stdout",
     "output_type": "stream",
     "text": [
      "hello\n"
     ]
    }
   ],
   "source": [
    "def hello():\n",
    "    print(\"hello\")\n",
    "\n",
    "hello()"
   ]
  },
  {
   "cell_type": "code",
   "execution_count": 4,
   "metadata": {},
   "outputs": [
    {
     "data": {
      "text/plain": [
       "'hello'"
      ]
     },
     "execution_count": 4,
     "metadata": {},
     "output_type": "execute_result"
    }
   ],
   "source": [
    "def hello2():\n",
    "    return \"hello\"\n",
    "\n",
    "hello2()"
   ]
  },
  {
   "cell_type": "code",
   "execution_count": 5,
   "metadata": {},
   "outputs": [
    {
     "name": "stdout",
     "output_type": "stream",
     "text": [
      "3 + 4 = <function add at 0x000002AACDFCDE40>\n"
     ]
    }
   ],
   "source": [
    "def add(a,b):\n",
    "    return a + b\n",
    "print(f\"3 + 4 = {add}\")"
   ]
  },
  {
   "cell_type": "code",
   "execution_count": null,
   "metadata": {},
   "outputs": [],
   "source": [
    "# 기본 파라메터 : 인자에 기본값()을 주는 형태\n",
    "\n",
    "def printf_b_times(value,n=2):\n",
    "    return"
   ]
  },
  {
   "cell_type": "code",
   "execution_count": 6,
   "metadata": {},
   "outputs": [
    {
     "name": "stdout",
     "output_type": "stream",
     "text": [
      "()\n",
      "({'name': 'hong', 'age': 20},)\n",
      "(35, 24, 25, 63)\n",
      "('A', 'B', 'C', 'D')\n",
      "(['A', 'B', 'C', 'D'],)\n"
     ]
    }
   ],
   "source": [
    "# 가변 파라메터(파라메터의 개수가 정해져 있지 않음)\n",
    "def add_many(*args):\n",
    "    print(args)\n",
    "\n",
    "add_many()\n",
    "add_many({\"name\":\"hong\",\"age\":20})\n",
    "add_many(35,24,25,63)\n",
    "add_many(\"A\",\"B\",\"C\",\"D\")\n",
    "add_many([\"A\",\"B\",\"C\",\"D\"])"
   ]
  }
 ],
 "metadata": {
  "kernelspec": {
   "display_name": "venv",
   "language": "python",
   "name": "python3"
  },
  "language_info": {
   "codemirror_mode": {
    "name": "ipython",
    "version": 3
   },
   "file_extension": ".py",
   "mimetype": "text/x-python",
   "name": "python",
   "nbconvert_exporter": "python",
   "pygments_lexer": "ipython3",
   "version": "3.13.1"
  }
 },
 "nbformat": 4,
 "nbformat_minor": 2
}
