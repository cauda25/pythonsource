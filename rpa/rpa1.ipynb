{
 "cells": [
  {
   "cell_type": "markdown",
   "metadata": {},
   "source": [
    "#### RPA(Robotic Process Automation) : 자동화 프로그램\n",
    "- ex) 엑셀 자동화 프로그램\n",
    "- 엑샐 pip install openpyxl\n",
    "- 이미지 pip install pillow\n"
   ]
  },
  {
   "cell_type": "code",
   "execution_count": 4,
   "metadata": {},
   "outputs": [],
   "source": [
    "# 엑셀 파일 생성\n",
    "from openpyxl import Workbook\n",
    "\n",
    "# 객체 생성\n",
    "wb = Workbook()\n",
    "\n",
    "# 현재 활성화된 시트 가져오기\n",
    "ws = wb.active\n",
    "ws.title = \"Sheet1\"\n",
    "\n",
    "wb.save(\"./sample.xlsx\")\n",
    "wb.close()\n"
   ]
  },
  {
   "cell_type": "code",
   "execution_count": null,
   "metadata": {},
   "outputs": [],
   "source": [
    "# 객체 생성\n",
    "wb = Workbook()\n",
    "\n",
    "# 현재 활성화된 시트 가져오기\n",
    "ws = wb.active\n",
    "ws.title = \"Sheet1\"\n",
    "\n",
    "# 새로운 시트 생성\n",
    "ws1 = wb.create_sheet(title=\"Mysheet\")\n",
    "ws1[\"A1\"] = \"test\"\n",
    "ws2 = wb.create_sheet(title=\"급여명세\",index=2)\n",
    "\n",
    "ws3 = wb.copy_worksheet(ws1)\n",
    "ws3.title = \"Copied Sheet\"\n",
    "\n",
    "wb.save(\"./sample.xlsx\")\n",
    "wb.close()"
   ]
  },
  {
   "cell_type": "code",
   "execution_count": 7,
   "metadata": {},
   "outputs": [
    {
     "name": "stdout",
     "output_type": "stream",
     "text": [
      "<Cell 'Sheet'.A3>\n",
      "3\n",
      "1\n",
      "4\n"
     ]
    }
   ],
   "source": [
    "# 객체 생성\n",
    "wb = Workbook()\n",
    "\n",
    "# 현재 활성화된 시트 가져오기\n",
    "ws = wb.active\n",
    "\n",
    "# 셀에 데이터 입력\n",
    "# A1=1,A2=2.A3=3.B1=4,B2=5,B3=6\n",
    "ws[\"A1\"] =1\n",
    "ws[\"A2\"] =2\n",
    "ws[\"A3\"] =3\n",
    "ws[\"B1\"] =4\n",
    "ws[\"B2\"] =5\n",
    "ws[\"B3\"] =6\n",
    "ws.cell(1,3,10) \n",
    "\n",
    "# 셀 정보 출력\n",
    "print(ws[\"A3\"])\n",
    "# 셀 내용 출력\n",
    "print(ws[\"A3\"].value)\n",
    "print(ws.cell(1,1).value)\n",
    "print(ws.cell(1,2).value)\n",
    "\n",
    "wb.save(\"./sample1.xlsx\")\n",
    "wb.close()"
   ]
  },
  {
   "cell_type": "code",
   "execution_count": 8,
   "metadata": {},
   "outputs": [],
   "source": [
    "import random\n",
    "\n",
    "# 객체 생성\n",
    "wb = Workbook()\n",
    "# 현재 활성화된 시트 가져오기\n",
    "ws = wb.active\n",
    "\n",
    "for x in range(1,11):\n",
    "    for y in range(1,11):\n",
    "        ws.cell(x,y,random.randint(0,100))\n",
    "\n",
    "wb.save(\"./sample2.xlsx\")\n",
    "wb.close()\n"
   ]
  },
  {
   "cell_type": "code",
   "execution_count": 10,
   "metadata": {},
   "outputs": [
    {
     "name": "stdout",
     "output_type": "stream",
     "text": [
      "85 94 52 47 58 61 68 36 49 54 \n",
      "36 6 51 71 25 23 26 22 75 84 \n",
      "27 82 5 100 74 22 70 7 89 74 \n",
      "6 72 47 1 8 97 80 89 57 61 \n",
      "57 85 38 80 29 9 96 66 76 22 \n",
      "38 17 3 75 41 89 76 35 16 52 \n",
      "51 24 49 58 74 67 23 23 82 40 \n",
      "79 39 45 75 49 61 69 39 74 17 \n",
      "58 60 78 9 32 1 10 86 42 10 \n",
      "43 82 7 21 32 72 45 69 70 100 \n"
     ]
    }
   ],
   "source": [
    "from openpyxl import load_workbook\n",
    "\n",
    "wb = load_workbook(\"./sample2.xlsx\")\n",
    "ws = wb.active\n",
    "\n",
    "# 셀 내용 가져오기\n",
    "for x in range(1,11):\n",
    "    for y in range(1,11):\n",
    "        print(ws.cell(x,y).value, end=\" \")\n",
    "    print()\n",
    "\n",
    "wb.close()\n"
   ]
  },
  {
   "cell_type": "code",
   "execution_count": null,
   "metadata": {},
   "outputs": [
    {
     "name": "stdout",
     "output_type": "stream",
     "text": [
      "(<Cell 'Sheet'.B1>, <Cell 'Sheet'.B2>, <Cell 'Sheet'.B3>, <Cell 'Sheet'.B4>, <Cell 'Sheet'.B5>, <Cell 'Sheet'.B6>, <Cell 'Sheet'.B7>, <Cell 'Sheet'.B8>, <Cell 'Sheet'.B9>, <Cell 'Sheet'.B10>, <Cell 'Sheet'.B11>)\n",
      "영어\n",
      "76\n",
      "82\n",
      "62\n",
      "67\n",
      "21\n",
      "5\n",
      "59\n",
      "52\n",
      "14\n",
      "99\n"
     ]
    }
   ],
   "source": [
    "from openpyxl import load_workbook,workbook\n",
    "\n",
    "wb = Workbook()\n",
    "ws = wb.active\n",
    "\n",
    "# 셀 내용 삽입(행 단위로)\n",
    "ws.append([\"번호\",\"영어\",\"수학\"])\n",
    "for x in range(1,11):\n",
    "    ws.append([x, random.randint(1,100), random.randint(1,100)])\n",
    "\n",
    "# 영어 컬럼 조회\n",
    "# print(ws[\"B\"])\n",
    "# for cell in ws[\"B\"]:\n",
    "#     print(cell.value)\n",
    "\n",
    "wb.save(\"./range.xlsx\")\n",
    "wb.close()"
   ]
  },
  {
   "cell_type": "code",
   "execution_count": 23,
   "metadata": {},
   "outputs": [
    {
     "name": "stdout",
     "output_type": "stream",
     "text": [
      "2 번 학생 영어 점수 : 82\n",
      "10 번 학생 영어 점수 : 99\n"
     ]
    }
   ],
   "source": [
    "wb = load_workbook(\"./range.xlsx\")\n",
    "ws = wb.active\n",
    "\n",
    "# cols = ws[\"B:C\"]\n",
    "# for col in cols:\n",
    "#     for cell in col:\n",
    "#         print(cell.value, end=\" \")\n",
    "#     print()\n",
    "\n",
    "# 1행 조회\n",
    "# rows = ws[1]\n",
    "# for row in rows:\n",
    "#     for cell in row:\n",
    "#         print(cell.value)\n",
    "#     print()\n",
    "\n",
    "# 2~6행 조회\n",
    "# rows = ws[2:6]\n",
    "# for row in rows:\n",
    "#     for cell in row:\n",
    "#         print(cell.value,end=\" \")\n",
    "#     print()\n",
    "\n",
    "\n",
    "# max_row : 마지막 행\n",
    "# max_column : 마지막 열\n",
    "# rows = ws[2:ws.max_row]\n",
    "# for row in rows:\n",
    "#     for cell in row:\n",
    "#         print(cell.value,end=\" \")\n",
    "#     print()\n",
    "\n",
    "# 전체 rows 가져오기\n",
    "# for row in ws.iter_rows():\n",
    "#     print(row[2].value)\n",
    "\n",
    "# for col in ws.iter_cols():\n",
    "#     print(col[2].value)\n",
    "\n",
    "for row in ws.iter_rows(min_row=2):\n",
    "    if int(row[1].value) > 80:\n",
    "        print(f\"{row[0].value} 번 학생 영어 점수 : {row[1].value}\")\n",
    "\n",
    "wb.close()"
   ]
  },
  {
   "cell_type": "code",
   "execution_count": 26,
   "metadata": {},
   "outputs": [],
   "source": [
    "wb = load_workbook(\"./range.xlsx\")\n",
    "ws = wb.active\n",
    "\n",
    "# 헹, 열 삽입\n",
    "# ws.insert_rows(8)\n",
    "ws.insert_rows(8,5)\n",
    "ws.insert_cols(2,3)\n",
    "\n",
    "wb.save(\"./range_insert.xlsx\")\n",
    "wb.close()"
   ]
  },
  {
   "cell_type": "code",
   "execution_count": 27,
   "metadata": {},
   "outputs": [],
   "source": [
    "wb = load_workbook(\"./range.xlsx\")\n",
    "ws = wb.active\n",
    "\n",
    "# 헹, 열 삭제\n",
    "ws.delete_rows(8)\n",
    "\n",
    "\n",
    "wb.save(\"./range_insert.xlsx\")\n",
    "wb.close()"
   ]
  },
  {
   "cell_type": "code",
   "execution_count": 29,
   "metadata": {},
   "outputs": [],
   "source": [
    "wb = load_workbook(\"./range.xlsx\")\n",
    "ws = wb.active\n",
    "\n",
    "# 헹, 열 삭제\n",
    "ws.delete_rows(8)\n",
    "ws.delete_cols(1,2)\n",
    "\n",
    "\n",
    "wb.save(\"./range_insert.xlsx\")\n",
    "wb.close()"
   ]
  },
  {
   "cell_type": "code",
   "execution_count": null,
   "metadata": {},
   "outputs": [],
   "source": [
    "wb = load_workbook(\"./range.xlsx\")\n",
    "ws = wb.active\n",
    "\n",
    "# 셀 이동\n",
    "ws.move_range(\"B1:C11\",rows=0,cols=1)\n",
    "ws.cell(row=1,column=2).value=\"국어\"\n",
    "\n",
    "\n",
    "wb.save(\"./range_insert.xlsx\")\n",
    "wb.close()"
   ]
  },
  {
   "cell_type": "code",
   "execution_count": 31,
   "metadata": {},
   "outputs": [],
   "source": [
    "from openpyxl.chart import BarChart,Reference,LineChart\n",
    "\n",
    "wb = load_workbook(\"./range.xlsx\")\n",
    "ws = wb.active\n",
    "\n",
    "# bar_chart = BarChart()\n",
    "# bar_value = Reference(ws,min_row=2,max_row=11,min_col=2,max_col=3)\n",
    "# bar_chart.add_data(bar_value)\n",
    "# ws.add_chart(bar_chart,\"E1\")\n",
    "\n",
    "line_chart = LineChart()\n",
    "line_value = Reference(ws,min_row=2,max_row=11,min_col=2,max_col=3)\n",
    "line_chart.add_data(line_value)\n",
    "# 차트 상세 설정\n",
    "line_chart.title = \"성적표\"\n",
    "line_chart.style = 20\n",
    "line_chart.y_axis.title = \"점수\"\n",
    "line_chart.x_axis.title = \"번호\"\n",
    "\n",
    "\n",
    "ws.add_chart(line_chart,\"E1\")\n",
    "\n",
    "\n",
    "wb.save(\"./range_chart.xlsx\")\n",
    "wb.close()"
   ]
  },
  {
   "cell_type": "code",
   "execution_count": 3,
   "metadata": {},
   "outputs": [],
   "source": [
    "from openpyxl import load_workbook\n",
    "from openpyxl.styles import Font,Border,PatternFill,Alignment\n",
    "from openpyxl.styles.borders import Side\n",
    "\n",
    "# 엑셀파일 열기\n",
    "wb = load_workbook(\"./range.xlsx\")\n",
    "# 현재 활성화된 시트 가져오기\n",
    "ws = wb.active\n",
    "\n",
    "# A컬럼 너비 조절\n",
    "ws.column_dimensions[\"A\"].width = 5\n",
    "# 1행 높이 조절\n",
    "ws.row_dimensions[1].height =50\n",
    "# 셀 가져오기\n",
    "a1 = ws[\"A1\"]\n",
    "b1 = ws[\"B1\"]\n",
    "c1 = ws[\"C1\"]\n",
    "\n",
    "# 폰트 속설 지정\n",
    "a1.font = Font(color=\"ff0000\",italic=True,bold=True)\n",
    "b1.font = Font(color=\"cc33ff\",name=\"arial\",strike=True)\n",
    "c1.font = Font(color=\"0000ff\",size=20,underline=\"single\")\n",
    "\n",
    "# 테두리 생성\n",
    "thin_border = Border(left=Side(style=\"thin\"),right=Side(style=\"thin\"),top=Side(style=\"thin\"),bottom=Side(style=\"thin\"))\n",
    "\n",
    "# 테두리 지정\n",
    "a1.border = thin_border\n",
    "b1.border = thin_border\n",
    "c1.border = thin_border\n",
    "\n",
    "\n",
    "for row in ws.rows:\n",
    "    for cell in row:\n",
    "        cell.alignment = Alignment(horizontal=\"center\",vertical=\"center\")\n",
    "        if cell.column == 1:\n",
    "            continue\n",
    "\n",
    "        if isinstance(cell.value,int) and cell.value >80:\n",
    "            cell.fill = PatternFill(fgColor=\"00ff00\",fill_type=\"solid\")\n",
    "            cell.font = Font(color=\"ff0000\")\n",
    "\n",
    "wb.save(\"./range_style.xlsx\")"
   ]
  },
  {
   "cell_type": "code",
   "execution_count": 4,
   "metadata": {},
   "outputs": [],
   "source": [
    "from datetime import datetime\n",
    "from openpyxl import Workbook\n",
    "\n",
    "wb = Workbook()\n",
    "ws = wb.active\n",
    "\n",
    "# 날짜 삽입\n",
    "ws[\"a1\"] = datetime.today()\n",
    "# 합계\n",
    "ws[\"a2\"] = \"=sum(1,2,3)\"\n",
    "# 평균\n",
    "ws[\"a3\"] = \"=average(1,2,3)\"\n",
    "\n",
    "ws[\"a4\"] = 10\n",
    "ws[\"a5\"] = 20\n",
    "ws[\"a6\"] = \"=sum(a4:a5)\"\n",
    "\n",
    "wb.save(\"./formula.xlsx\")"
   ]
  },
  {
   "cell_type": "code",
   "execution_count": 6,
   "metadata": {},
   "outputs": [
    {
     "name": "stdout",
     "output_type": "stream",
     "text": [
      "2025-01-06 10:07:03.334000\n",
      "None\n",
      "None\n",
      "10\n",
      "20\n",
      "None\n"
     ]
    }
   ],
   "source": [
    "wb = load_workbook(\"./formula.xlsx\",data_only=True)\n",
    "ws = wb.active\n",
    "\n",
    "for row in ws.values:\n",
    "    for cell in row:\n",
    "        print(cell)"
   ]
  },
  {
   "cell_type": "code",
   "execution_count": 7,
   "metadata": {},
   "outputs": [],
   "source": [
    "# 셀 병합\n",
    "wb = Workbook()\n",
    "ws = wb.active\n",
    "\n",
    "# B2:D2 병합\n",
    "ws.merge_cells(\"B2:D2\")\n",
    "ws[\"B2\"].value = \"Merge Cell\"\n",
    "\n",
    "wb.save(\"./merge.xlsx\")"
   ]
  },
  {
   "cell_type": "code",
   "execution_count": 8,
   "metadata": {},
   "outputs": [],
   "source": [
    "wb = load_workbook(\"./merge.xlsx\")\n",
    "ws = wb.active\n",
    "\n",
    "# 셀 병합 해제\n",
    "ws.unmerge_cells(\"B2:D2\")\n",
    "wb.save(\"./merge.xlsx\")"
   ]
  },
  {
   "cell_type": "code",
   "execution_count": 9,
   "metadata": {},
   "outputs": [],
   "source": [
    "from openpyxl.drawing.image import Image\n",
    "\n",
    "# 이미지 삽입\n",
    "wb = Workbook()\n",
    "ws = wb.active\n",
    "\n",
    "img = Image(\"./interstellar.png\")\n",
    "\n",
    "ws.add_image(img, \"C3\")\n",
    "wb.save(\"./image.xlsx\")"
   ]
  }
 ],
 "metadata": {
  "kernelspec": {
   "display_name": "venv",
   "language": "python",
   "name": "python3"
  },
  "language_info": {
   "codemirror_mode": {
    "name": "ipython",
    "version": 3
   },
   "file_extension": ".py",
   "mimetype": "text/x-python",
   "name": "python",
   "nbconvert_exporter": "python",
   "pygments_lexer": "ipython3",
   "version": "3.13.1"
  }
 },
 "nbformat": 4,
 "nbformat_minor": 2
}
